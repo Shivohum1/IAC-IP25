{
  "nbformat": 4,
  "nbformat_minor": 0,
  "metadata": {
    "colab": {
      "provenance": []
    },
    "kernelspec": {
      "name": "python3",
      "display_name": "Python 3"
    },
    "language_info": {
      "name": "python"
    }
  },
  "cells": [
    {
      "cell_type": "code",
      "execution_count": null,
      "metadata": {
        "id": "3E6p_37OAN2q"
      },
      "outputs": [],
      "source": [
        "import pandas as pd\n",
        "import matplotlib.pyplot as plt\n",
        "df = pd.read_excel(\"Dataa.xlsx\")"
      ]
    },
    {
      "cell_type": "code",
      "source": [
        "df = df.drop_duplicates()"
      ],
      "metadata": {
        "id": "VSiehC1UBJtJ"
      },
      "execution_count": null,
      "outputs": []
    },
    {
      "cell_type": "code",
      "source": [
        "df['Email ID'] = df['Email ID'].str.strip().str.lower()\n",
        "df['Events'] = df['Events'].str.strip().str.lower()"
      ],
      "metadata": {
        "id": "U5-GhrBe1Fvz"
      },
      "execution_count": null,
      "outputs": []
    },
    {
      "cell_type": "code",
      "source": [
        "# function to resolve conflicts in data\n",
        "def resolve_conflicts(series):\n",
        "    if pd.api.types.is_numeric_dtype(series) and series.name == \"CGPA\":\n",
        "        return series.median()  # Use median for Continuous data like cgpa and mode for discrete data\n",
        "    else:\n",
        "        mode = series.mode()\n",
        "        return mode.iloc[0] if not mode.empty else series.iloc[0]"
      ],
      "metadata": {
        "id": "shzAsHwbAGYz"
      },
      "execution_count": null,
      "outputs": []
    },
    {
      "cell_type": "code",
      "source": [
        "#Group by Emaild Id and Events to resolve the conflict\n",
        "df_cleaned = df.groupby(['Email ID', 'Events']).agg(resolve_conflicts).reset_index()"
      ],
      "metadata": {
        "id": "skOIeW7OAH8H"
      },
      "execution_count": null,
      "outputs": []
    },
    {
      "cell_type": "code",
      "source": [
        "#mode conflict flag per student\n",
        "def mode_or_first(series):\n",
        "    mode = series.mode()\n",
        "    if len(mode) == 1:\n",
        "        return mode.iloc[0]\n",
        "    return mode.iloc[0] if not mode.empty else series.iloc[0]\n",
        "\n",
        "def mode_conflict(series):\n",
        "    return len(series.mode()) > 1"
      ],
      "metadata": {
        "id": "020w8cZon5Fo"
      },
      "execution_count": null,
      "outputs": []
    },
    {
      "cell_type": "code",
      "source": [
        "# Apply both: values and conflict flags\n",
        "student_profile = df.groupby(\"Email ID\").agg({\n",
        "    \"Year of Graduation\": mode_or_first,\n",
        "    \"Experience with python (Months)\": mode_or_first,\n",
        "    \"College Name\": mode_or_first\n",
        "}).reset_index()\n",
        "\n",
        "conflict_flags = df.groupby(\"Email ID\").agg({\n",
        "    \"Year of Graduation\": mode_conflict,\n",
        "    \"Experience with python (Months)\": mode_conflict,\n",
        "    \"College Name\": mode_conflict\n",
        "}).rename(columns={\n",
        "    \"Year of Graduation\": \"Grad_Conflict\",\n",
        "    \"Experience with python (Months)\": \"PythonExp_Conflict\",\n",
        "    \"College Name\": \"College_Conflict\"\n",
        "}).reset_index()"
      ],
      "metadata": {
        "id": "z62Evn5xomeJ"
      },
      "execution_count": null,
      "outputs": []
    },
    {
      "cell_type": "code",
      "source": [
        "# Merge conflict flags into profile\n",
        "student_profile_full = student_profile.merge(conflict_flags, on=\"Email ID\", how=\"left\")"
      ],
      "metadata": {
        "id": "qRRJT7HP2Z8V"
      },
      "execution_count": null,
      "outputs": []
    },
    {
      "cell_type": "code",
      "source": [
        "#  Drop student-level fields from event-level cleaned data\n",
        "df_cleaned = df_cleaned.drop(columns=[\n",
        "    \"Year of Graduation\",\n",
        "    \"Experience with python (Months)\",\n",
        "    \"College Name\"\n",
        "], errors=\"ignore\")\n",
        "\n",
        "df_final = df_cleaned.merge(student_profile_full, on=\"Email ID\", how=\"left\")"
      ],
      "metadata": {
        "id": "rB5YHOv02hU2"
      },
      "execution_count": null,
      "outputs": []
    },
    {
      "cell_type": "code",
      "source": [
        "# Group by Email ID to check CGPA range and unique cities\n",
        "integrity_check = df_cleaned.groupby(\"Email ID\").agg({\n",
        "    \"CGPA\": lambda x: x.max() - x.min(),\n",
        "    \"City\": pd.Series.nunique\n",
        "}).rename(columns={\n",
        "    \"CGPA\": \"CGPA_Range\",\n",
        "    \"City\": \"Unique_Cities\"\n",
        "}).reset_index()"
      ],
      "metadata": {
        "id": "1n9QbaodAMvM"
      },
      "execution_count": null,
      "outputs": []
    },
    {
      "cell_type": "code",
      "source": [
        "# Set thresholds\n",
        "CGPA_THRESHOLD = 1.0\n",
        "CITY_THRESHOLD = 1"
      ],
      "metadata": {
        "id": "wXPI6oa_ATZw"
      },
      "execution_count": null,
      "outputs": []
    },
    {
      "cell_type": "code",
      "source": [
        "# Add conflict flags\n",
        "integrity_check[\"CGPA_Conflict\"] = integrity_check[\"CGPA_Range\"] > CGPA_THRESHOLD\n",
        "integrity_check[\"City_Conflict\"] = integrity_check[\"Unique_Cities\"] > CITY_THRESHOLD\n"
      ],
      "metadata": {
        "id": "JwTU8eFDAZX1"
      },
      "execution_count": null,
      "outputs": []
    },
    {
      "cell_type": "code",
      "source": [
        "# Add trustworthiness flag\n",
        "integrity_check[\"Is_Trusted\"] = ~(integrity_check[\"CGPA_Conflict\"] | integrity_check[\"City_Conflict\"])"
      ],
      "metadata": {
        "id": "gN-_tYuoAaxT"
      },
      "execution_count": null,
      "outputs": []
    },
    {
      "cell_type": "code",
      "source": [
        "df_final = df_final.merge(integrity_check[[\"Email ID\", \"Is_Trusted\", \"CGPA_Conflict\", \"City_Conflict\"]], on=\"Email ID\", how=\"left\")"
      ],
      "metadata": {
        "id": "kmegaDUWAj-M"
      },
      "execution_count": null,
      "outputs": []
    },
    {
      "cell_type": "code",
      "source": [
        "# Save cleaned and flagged data\n",
        "df_final.to_excel(\"Internship.xlsx\", index=False)\n",
        "\n",
        "# Save integrity report separately\n",
        "integrity_check.to_excel(\"Student_Data_Integrity_Report.xlsx\", index=False)\n",
        "\n",
        "print(\"✅ Cleaned and flagged data saved as 'Fully_Cleaned_Student_Data.xlsx'\")\n",
        "print(\"📄 Integrity report saved as 'Student_Data_Integrity_Report.xlsx'\")\n",
        "\n"
      ],
      "metadata": {
        "colab": {
          "base_uri": "https://localhost:8080/"
        },
        "id": "1XpH0yOKAmBQ",
        "outputId": "a1c63d24-28d1-42a4-8275-ca1289bd4168"
      },
      "execution_count": null,
      "outputs": [
        {
          "output_type": "stream",
          "name": "stdout",
          "text": [
            "✅ Cleaned and flagged data saved as 'Fully_Cleaned_Student_Data.xlsx'\n",
            "📄 Integrity report saved as 'Student_Data_Integrity_Report.xlsx'\n"
          ]
        }
      ]
    }
  ]
}