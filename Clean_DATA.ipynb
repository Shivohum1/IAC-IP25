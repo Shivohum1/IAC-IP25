{
  "nbformat": 4,
  "nbformat_minor": 0,
  "metadata": {
    "colab": {
      "provenance": []
    },
    "kernelspec": {
      "name": "python3",
      "display_name": "Python 3"
    },
    "language_info": {
      "name": "python"
    }
  },
  "cells": [
    {
      "cell_type": "code",
      "execution_count": 1,
      "metadata": {
        "id": "czRi56GqGMAe"
      },
      "outputs": [],
      "source": [
        "# Clean the 'Data analyst Data.xlsx' All Events Data sheet using a robust pipeline and preview results\n",
        "import pandas as pd\n",
        "import numpy as np"
      ]
    },
    {
      "cell_type": "code",
      "source": [
        "# 1) Load\n",
        "file_path_main = 'Data analyst Data.xlsx'\n",
        "xl = pd.ExcelFile(file_path_main)\n"
      ],
      "metadata": {
        "id": "MTPNMTEFGa6z"
      },
      "execution_count": 2,
      "outputs": []
    },
    {
      "cell_type": "code",
      "source": [
        "# 2) Standardize column names\n",
        "new_cols = []\n",
        "for c in df_raw.columns:\n",
        "    c2 = str(c).strip().lower()\n",
        "    c2 = c2.replace(' ', '_')\n",
        "    c2 = c2.replace('-', '_')\n",
        "    c2 = c2.replace('\"', '')\n",
        "    c2 = c2.replace(\"'\", '')\n",
        "    new_cols.append(c2)\n",
        "df = df_raw.copy()\n",
        "df.columns = new_cols"
      ],
      "metadata": {
        "id": "oObOO2HhGrz0"
      },
      "execution_count": 6,
      "outputs": []
    },
    {
      "cell_type": "code",
      "source": [
        "# Rename long question columns to concise names if present\n",
        "rename_map = {\n",
        "    'email_id': 'email',\n",
        "    'attendee_status': 'status',\n",
        "    'how_did_you_come_to_know_about_this_event?': 'how_did_you_know',\n",
        "    'specify_in_others_(how_did_you_come_to_know_about_this_event)': 'others_specify',\n",
        "    'year_of_graduation': 'grad_year',\n",
        "    'experience_with_python_(months)': 'python_exp_months',\n",
        "    'expected_salary_(lac)': 'expected_salary_lac',\n",
        "    'leadership__skills': 'leadership_skills'\n",
        "}\n",
        "for k in list(rename_map.keys()):\n",
        "    if k not in df.columns:\n",
        "        # try alternate keys that may differ by punctuation\n",
        "        for col in df.columns:\n",
        "            if k.replace('?', '') == col.replace('?', ''):\n",
        "                rename_map[col] = rename_map[k]\n",
        "        if k in rename_map:\n",
        "            rename_map.pop(k, None)\n",
        "\n",
        "df = df.rename(columns=rename_map)"
      ],
      "metadata": {
        "id": "qoIqoRvhGzOm"
      },
      "execution_count": 7,
      "outputs": []
    },
    {
      "cell_type": "code",
      "source": [
        "# 3) Trim strings\n",
        "str_cols = df.select_dtypes(include=['object']).columns.tolist()\n",
        "for c in str_cols:\n",
        "    df[c] = df[c].astype(str).str.strip()\n",
        "    df[c] = df[c].replace({'nan': np.nan, 'None': np.nan, '': np.nan})"
      ],
      "metadata": {
        "id": "T2oTPr7kG9In"
      },
      "execution_count": 8,
      "outputs": []
    },
    {
      "cell_type": "code",
      "source": [
        "# Lowercase identifiers for consistency\n",
        "for c in ['email', 'events']:\n",
        "    if c in df.columns:\n",
        "        df[c] = df[c].str.lower()\n"
      ],
      "metadata": {
        "id": "EoRzLrVyHEY3"
      },
      "execution_count": 9,
      "outputs": []
    },
    {
      "cell_type": "code",
      "source": [
        "# Title-case city\n",
        "if 'city' in df.columns:\n",
        "    df['city'] = df['city'].str.title()"
      ],
      "metadata": {
        "id": "Xsdc7EHWHKqR"
      },
      "execution_count": 10,
      "outputs": []
    },
    {
      "cell_type": "code",
      "source": [
        "# 4) Consolidate knowledge source\n",
        "if 'how_did_you_know' in df.columns and 'others_specify' in df.columns:\n",
        "    df['knowledge_source'] = df['how_did_you_know']\n",
        "    mask_others = df['knowledge_source'].str.contains('others', case=False, na=False)\n",
        "    df.loc[mask_others & df['others_specify'].notna(), 'knowledge_source'] = df.loc[mask_others, 'others_specify']\n"
      ],
      "metadata": {
        "id": "Ce3T4t9RHOvI"
      },
      "execution_count": 11,
      "outputs": []
    },
    {
      "cell_type": "code",
      "source": [
        "# 5) Family Income Mapping\n",
        "if 'family_income' in df.columns:\n",
        "    # Map family income to standardized scale\n",
        "    income_mapping = {\n",
        "        '0-2 Lakh': 1,\n",
        "        '2-5 Lakh': 3.5,\n",
        "        '5-7 Lakh': 6,\n",
        "        '7+ Lakh': 8,\n",
        "        }\n",
        "\n",
        "    # Apply mapping for text values\n",
        "    df['family_income'] = df['family_income'].replace(income_mapping)\n",
        "\n",
        "    # Convert to numeric, handling any remaining text\n",
        "    df['family_income'] = pd.to_numeric(df['family_income'], errors='coerce')"
      ],
      "metadata": {
        "id": "Kvpp4UliHTrp"
      },
      "execution_count": 12,
      "outputs": []
    },
    {
      "cell_type": "code",
      "source": [
        "# 6) Expected Salary Cleaning\n",
        "if 'expected_salary_lac' in df.columns:\n",
        "    # Remove 'Lakhs' text and convert to numeric\n",
        "    df['expected_salary_lac'] = df['expected_salary_lac'].astype(str).str.replace('Lakhs', '', case=False)\n",
        "    df['expected_salary_lac'] = df['expected_salary_lac'].str.replace('Lac', '', case=False)\n",
        "    df['expected_salary_lac'] = df['expected_salary_lac'].str.replace('L', '', case=False)\n",
        "    df['expected_salary_lac'] = df['expected_salary_lac'].str.strip()\n",
        "\n",
        "    # Convert to numeric\n",
        "    df['expected_salary_lac'] = pd.to_numeric(df['expected_salary_lac'], errors='coerce')"
      ],
      "metadata": {
        "id": "RcgAYl66HZjx"
      },
      "execution_count": 13,
      "outputs": []
    },
    {
      "cell_type": "code",
      "source": [
        " #7) Type conversions\n",
        "numeric_specs = {\n",
        "    'quantity': None,\n",
        "    'grad_year': None,\n",
        "    'cgpa': (0, 10),\n",
        "    'python_exp_months': (0, None),\n",
        "    'expected_salary_lac': (0, None)\n",
        "}\n",
        "for col, bounds in numeric_specs.items():\n",
        "    if col in df.columns:\n",
        "        df[col] = pd.to_numeric(df[col], errors='coerce')\n",
        "        if bounds is not None:\n",
        "            low, high = bounds\n",
        "            if low is not None:\n",
        "                df[col] = df[col].clip(lower=low)\n",
        "            if high is not None:\n",
        "                df[col] = df[col].clip(upper=high)\n",
        "\n",
        "# Leadership skills to boolean\n",
        "if 'leadership_skills' in df.columns:\n",
        "    df['leadership_skills'] = df['leadership_skills'].str.lower().map({'yes': True, 'no': False})\n"
      ],
      "metadata": {
        "id": "LSXkMHKiHdGZ"
      },
      "execution_count": 15,
      "outputs": []
    },
    {
      "cell_type": "code",
      "source": [
        "# 8) Normalize status/events casing\n",
        "for c in ['status', 'events']:\n",
        "    if c in df.columns:\n",
        "        df[c] = df[c].astype(str).str.strip()\n",
        "\n",
        "# 9) Deduplicate exact rows\n",
        "before_dupes = len(df)\n",
        "df = df.drop_duplicates()\n",
        "after_dupes = len(df)\n",
        "print('Dropped exact duplicate rows: ' + str(before_dupes - after_dupes))\n"
      ],
      "metadata": {
        "colab": {
          "base_uri": "https://localhost:8080/"
        },
        "id": "7td8uAh8Hoxb",
        "outputId": "ffc1c50d-1970-4d10-ea49-e6d9e5284f4b"
      },
      "execution_count": 16,
      "outputs": [
        {
          "output_type": "stream",
          "name": "stdout",
          "text": [
            "Dropped exact duplicate rows: 0\n"
          ]
        }
      ]
    },
    {
      "cell_type": "code",
      "source": [
        "# 10) Resolve conflicts by Email + Event\n",
        "key_cols = [c for c in ['email', 'events'] if c in df.columns]\n",
        "\n",
        "def resolve_col(series):\n",
        "    name = series.name\n",
        "    if pd.api.types.is_numeric_dtype(series):\n",
        "        if name in ['cgpa']:\n",
        "            return series.median()\n",
        "        # discrete numeric fields - use mode then median fallback\n",
        "        mode = series.mode(dropna=True)\n",
        "        if not mode.empty:\n",
        "            return mode.iloc[0]\n",
        "        return series.median()\n",
        "    # categorical\n",
        "    mode = series.mode(dropna=True)\n",
        "    if not mode.empty:\n",
        "        return mode.iloc[0]\n",
        "    return series.dropna().iloc[0] if series.dropna().shape[0] > 0 else np.nan\n",
        "\n",
        "if len(key_cols) == 2:\n",
        "    df_agg = df.groupby(key_cols, dropna=False).agg(resolve_col).reset_index()\n",
        "else:\n",
        "    df_agg = df.copy()"
      ],
      "metadata": {
        "id": "MDXvqR6xHsPT"
      },
      "execution_count": 17,
      "outputs": []
    },
    {
      "cell_type": "code",
      "source": [
        "# 11) Plausibility filters\n",
        "\n",
        "if 'python_exp_months' in df_agg.columns:\n",
        "    df_agg.loc[df_agg['python_exp_months'] < 0, 'python_exp_months'] = np.nan\n",
        "\n",
        "# 12) Quick summary and preview\n",
        "print('Cleaned rows: ' + str(len(df_agg)))\n",
        "print(df_agg.head(15))\n",
        "\n",
        "# Save cleaned file\n",
        "out_file = 'all_events_cleaned.csv'\n",
        "df_agg.to_csv(out_file, index=False)\n",
        "print('Saved cleaned dataset to file: ' + out_file)"
      ],
      "metadata": {
        "colab": {
          "base_uri": "https://localhost:8080/"
        },
        "id": "Qd-YCcVgH0O1",
        "outputId": "d4324616-a84a-4995-a51e-60fc21c2badb"
      },
      "execution_count": 18,
      "outputs": [
        {
          "output_type": "stream",
          "name": "stdout",
          "text": [
            "Cleaned rows: 3900\n",
            "                 email                                       events  \\\n",
            "0      10pawan@xyz.com            data visualization using power bi   \n",
            "1      aaditya@xyz.com      internship program(ip) success conclave   \n",
            "2       aaftab@xyz.com      internship program(ip) success conclave   \n",
            "3    aakanksha@xyz.com                       art of resume building   \n",
            "4    aakanksha@xyz.com            data visualization using power bi   \n",
            "5    aakanksha@xyz.com  talk on skill and employability enhancement   \n",
            "6     aakansha@xyz.com            data visualization using power bi   \n",
            "7      aakassh@xyz.com                    the agile ways of working   \n",
            "8   aaliyaruba@xyz.com                              hello ml and dl   \n",
            "9        aamir@xyz.com  talk on skill and employability enhancement   \n",
            "10       aarav@xyz.com            data visualization using power bi   \n",
            "11       aarav@xyz.com  talk on skill and employability enhancement   \n",
            "12       aarav@xyz.com             the sdlc & their transformations   \n",
            "13       aaron@xyz.com                       art of resume building   \n",
            "14       aaron@xyz.com            data visualization using power bi   \n",
            "\n",
            "     first_name  quantity     status  \\\n",
            "0      10 Pawan         1  Attending   \n",
            "1       Aaditya         1  Attending   \n",
            "2        Aaftab         1  Attending   \n",
            "3     Aakanksha         1  Attending   \n",
            "4     Aakanksha         1  Attending   \n",
            "5     Aakanksha         1  Attending   \n",
            "6      Aakansha         1  Attending   \n",
            "7       Aakassh         1  Attending   \n",
            "8   Aaliya Ruba         1  Attending   \n",
            "9         Aamir         1  Attending   \n",
            "10        AARAV         1  Attending   \n",
            "11        AARAV         1  Attending   \n",
            "12        AARAV         1  Attending   \n",
            "13        Aaron         1  Attending   \n",
            "14        Aaron         1  Attending   \n",
            "\n",
            "                                         college_name  \\\n",
            "0                     silicon institute of technology   \n",
            "1   CHHATTISGARH SWAMI VIVEKANANDA TECHNICAL UNIVE...   \n",
            "2                                 st xavier's college   \n",
            "3   G H Raisoni institut of engineering and techno...   \n",
            "4                  mit academy of engineering ,alandi   \n",
            "5                                      wilson college   \n",
            "6        Priyadarshini college of engineering, Nagpur   \n",
            "7                  mit academy of engineering ,alandi   \n",
            "8   d y patil institute of mca and management akur...   \n",
            "9        don bosco college of engineering fatorda goa   \n",
            "10  g h raisoni institut of engineering and techno...   \n",
            "11  b. k. birla college of arts, science & commerc...   \n",
            "12  b. k. birla college of arts, science & commerc...   \n",
            "13                 MIT Academy Of Engineering ,Alandi   \n",
            "14  DKTE Society's Textile And Engineering Institu...   \n",
            "\n",
            "                       how_did_you_know others_specify        designation  \\\n",
            "0               SPOC/ College Professor            NaN           Students   \n",
            "1                                   NaN            NaN             Intern   \n",
            "2                                   NaN            NaN  Computer Engineer   \n",
            "3                              Whatsapp            NaN           Students   \n",
            "4                                   NaN            NaN           Students   \n",
            "5                                   NaN            NaN           Students   \n",
            "6                                 Email            NaN           Students   \n",
            "7                                 Email            NaN           Students   \n",
            "8                              Whatsapp            NaN           Students   \n",
            "9                                   NaN            NaN           Students   \n",
            "10                             Whatsapp            NaN           Students   \n",
            "11                                  NaN            NaN           Students   \n",
            "12                             Whatsapp            NaN           Students   \n",
            "13                                Email            NaN           Students   \n",
            "14  Whatsapp | Cloud Counselage Website            NaN           Students   \n",
            "\n",
            "    grad_year       city  cgpa  python_exp_months  family_income  \\\n",
            "0        2024  Ghaziabad   7.3                5.0            1.0   \n",
            "1        2023   Nizambad   7.3                7.0            1.0   \n",
            "2        2024    Bhsawal   7.3                7.0            1.0   \n",
            "3        2025     Godhra   7.5                4.0            NaN   \n",
            "4        2024      Jalor   9.6                8.0            3.5   \n",
            "5        2025   Santipur   7.2                6.0            1.0   \n",
            "6        2023    Madgaon   9.9                4.0            1.0   \n",
            "7        2024      Daman   7.3                3.0            1.0   \n",
            "8        2023    Sangrur   7.2                4.0            1.0   \n",
            "9        2024     Almora   8.3                8.0            1.0   \n",
            "10       2024  Faridabad   6.4                6.0            1.0   \n",
            "11       2024     Amreli   8.6                5.0            1.0   \n",
            "12       2025     Kanpur   9.7                6.0            1.0   \n",
            "13       2023      Sikar   6.6                3.0            1.0   \n",
            "14       2023     Shimla   7.3                4.0            1.0   \n",
            "\n",
            "    expected_salary_lac  leadership_skills  \\\n",
            "0                     5               True   \n",
            "1                     8              False   \n",
            "2                    19              False   \n",
            "3                    21              False   \n",
            "4                    21               True   \n",
            "5                     9               True   \n",
            "6                    21               True   \n",
            "7                    13               True   \n",
            "8                     9               True   \n",
            "9                     9              False   \n",
            "10                   20              False   \n",
            "11                   18              False   \n",
            "12                   19              False   \n",
            "13                   10               True   \n",
            "14                    6              False   \n",
            "\n",
            "                       knowledge_source  \n",
            "0               SPOC/ College Professor  \n",
            "1                                   NaN  \n",
            "2                                   NaN  \n",
            "3                              Whatsapp  \n",
            "4                                   NaN  \n",
            "5                                   NaN  \n",
            "6                                 Email  \n",
            "7                                 Email  \n",
            "8                              Whatsapp  \n",
            "9                                   NaN  \n",
            "10                             Whatsapp  \n",
            "11                                  NaN  \n",
            "12                             Whatsapp  \n",
            "13                                Email  \n",
            "14  Whatsapp | Cloud Counselage Website  \n",
            "Saved cleaned dataset to file: all_events_cleaned.csv\n"
          ]
        }
      ]
    }
  ]
}